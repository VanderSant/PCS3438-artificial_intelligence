{
 "cells": [
  {
   "cell_type": "markdown",
   "metadata": {},
   "source": [
    "# Lista de exercícios - Professor Eduardo\n",
    "\n",
    "Observações:\n",
    "- Pode-se usar softwares (e.g., R, Python, Weka etc.) para resolver as questões.\n",
    "- Todos os arquivos CSV possuem cabeçalho com o nome das colunas e campos separados por vírgula “,”.\n",
    "- Todas as questões têm pesos iguais e valem 2,5 pontos.\n",
    "- Data máxima para entrega: 05/12/2022 no horário da aula(14h). Para cada dia de atraso na entrega serão\n",
    "descontados 2,5 pontos."
   ]
  },
  {
   "cell_type": "markdown",
   "metadata": {},
   "source": [
    "Informações:\n",
    "- NUSP: 11259715 Nome: Vanderson da S. dos Santos\n",
    "- NUSP: 11261110 Nome: Antonio Lago Araújo Seixas \n",
    "- NUSP: 11375354 Nome: Greghory do Amaral\n",
    "\n",
    "- Matéria: PCS3438 - Inteligência Artificial\n",
    "\n",
    "- Professor: Eduardo Raul Hruschka  \n",
    "\n",
    "- Data: 07/12/2022\n",
    "\n",
    "---"
   ]
  },
  {
   "cell_type": "markdown",
   "metadata": {},
   "source": [
    "Para o desenvolvimento do exercício foi escolhido a linguagem `Python` e foram utilizadas as bibilitecas `numpy`, `pandas` e `sklearn`, sendo cada uma usadas para:\n",
    "\n",
    "- pandas: para o tratamentos dos dados disponibilizados.\n",
    "- numpy: para manipulações matemáticas.\n",
    "- sklearn: para o treinamento de modelos, predição, cálculo de erros e\n",
    "validação cruzada."
   ]
  },
  {
   "cell_type": "code",
   "execution_count": 28,
   "metadata": {},
   "outputs": [],
   "source": [
    "# generic imports\n",
    "import os                \n",
    "import numpy as np\n",
    "import pandas as pd\n",
    "\n",
    "# machine learning libraries\n",
    "from sklearn.model_selection import train_test_split\n",
    "from sklearn.model_selection import cross_val_score\n",
    "from sklearn.metrics import accuracy_score"
   ]
  },
  {
   "cell_type": "markdown",
   "metadata": {},
   "source": [
    "---\n",
    "\n",
    "Antes de começar a resolver os exercícios, foi criado uma classe generica para fazer upload dos dados"
   ]
  },
  {
   "cell_type": "code",
   "execution_count": 29,
   "metadata": {},
   "outputs": [],
   "source": [
    "class Question:\n",
    "    def __init__(self,dataset_name):\n",
    "        self.InputDataReader = lambda data: pd.read_csv(data,sep=r'\\s*,\\s*',engine='python',na_values=\"?\")\n",
    "\n",
    "        self.notebook_folder_path = os.getcwd()\n",
    "        self.list_folder_path = f\"{self.notebook_folder_path}/../../../assets/dataset/eduardo/lista\"\n",
    "\n",
    "        self.dataset_path = f\"{self.list_folder_path}/{dataset_name}.csv\"\n",
    "        self.dataset = self.InputDataReader(self.dataset_path)"
   ]
  },
  {
   "cell_type": "markdown",
   "metadata": {},
   "source": [
    "---"
   ]
  },
  {
   "cell_type": "markdown",
   "metadata": {},
   "source": [
    "## Questão 1\n",
    "\n",
    "Considerando os dados presentes no arquivo class01.csv, treine o algoritmo Naive Bayes Gaussiano utilizando a metodologia de validação cruzada holdout (utilize para treino as 350 primeiras linhas e para validação as demais). Qual o valor da acurácia a base de treino? Qual o valor da acurácia na base de validação?"
   ]
  },
  {
   "cell_type": "markdown",
   "metadata": {},
   "source": [
    "Seguindo as instruções informadas no exercício, foi realizado o treinamento do algoritmo Naives Bayes Gaussiano utilizando a validação cruzada holdout. "
   ]
  },
  {
   "cell_type": "code",
   "execution_count": 30,
   "metadata": {},
   "outputs": [],
   "source": [
    "from sklearn.naive_bayes import GaussianNB"
   ]
  },
  {
   "cell_type": "code",
   "execution_count": 31,
   "metadata": {},
   "outputs": [],
   "source": [
    "class Question1(Question):\n",
    "    def __init__(self):\n",
    "        super().__init__(\"class01\")\n",
    "\n",
    "question1 = Question1()\n",
    "# question1.dataset.head(5)"
   ]
  },
  {
   "cell_type": "code",
   "execution_count": 32,
   "metadata": {},
   "outputs": [
    {
     "name": "stdout",
     "output_type": "stream",
     "text": [
      "Tamanho dados de treino : 350\n",
      "Tamanho dados de validação : 650\n"
     ]
    }
   ],
   "source": [
    "def prepare_data_question1(self):\n",
    "    self.train_data, self.validation_data = train_test_split(self.dataset, test_size=0.65)\n",
    "    self.validation_data_without_target = self.validation_data.drop([\"target\"], axis=1)\n",
    "    self.train_data_without_target = self.train_data.drop([\"target\"], axis=1)\n",
    "\n",
    "    print(f\"Tamanho dados de treino : {len(self.train_data)}\\nTamanho dados de validação : {len(self.validation_data)}\") \n",
    "\n",
    "Question1.prepare_data = prepare_data_question1\n",
    "question1.prepare_data()"
   ]
  },
  {
   "cell_type": "markdown",
   "metadata": {},
   "source": [
    "Podemos ver aqui que houveram 350 dados de treino e 650 de validação"
   ]
  },
  {
   "cell_type": "code",
   "execution_count": 33,
   "metadata": {},
   "outputs": [],
   "source": [
    "def run_question1(self):\n",
    "    self.model = GaussianNB()\n",
    "    \n",
    "    self.train_data_labs = self.train_data.columns.values\n",
    "    self.train_data_labs = self.train_data_labs[:-1]\n",
    "\n",
    "    self.train_data_x = self.train_data[self.train_data_labs]\n",
    "    self.train_data_y = self.train_data[[\"target\"]]\n",
    "\n",
    "\n",
    "    # cross_val = cross_val_score(self.model, self.train_data_x,self.train_data_y.values.ravel(), cv=10,error_score='raise')\n",
    "    self.model.fit(self.train_data_x,self.train_data_y.values.ravel())\n",
    "\n",
    "    self.validation_data_predicted = self.model.predict(self.validation_data_without_target)\n",
    "    self.train_data_predicted = self.model.predict(self.train_data_without_target)\n",
    "\n",
    "Question1.run = run_question1\n",
    "question1.run()"
   ]
  },
  {
   "cell_type": "code",
   "execution_count": 34,
   "metadata": {},
   "outputs": [],
   "source": [
    "def validation_question1(self):\n",
    "    self.validation_data_y = self.validation_data[[\"target\"]]\n",
    "\n",
    "    self.validation_accuracy_score = accuracy_score(self.validation_data_y,self.validation_data_predicted)\n",
    "    self.train_accuracy_score = accuracy_score(self.train_data_y,self.train_data_predicted)\n",
    "\n",
    "Question1.validation = validation_question1\n",
    "question1.validation()"
   ]
  },
  {
   "cell_type": "code",
   "execution_count": 35,
   "metadata": {},
   "outputs": [
    {
     "name": "stdout",
     "output_type": "stream",
     "text": [
      "A acurácia da base de treino foi de 77.14285714285715 \n",
      "A acurácia da base de validação foi de 61.69230769230769\n"
     ]
    }
   ],
   "source": [
    "def show_results_question1(self):\n",
    "    msg = f\"A acurácia da base de treino foi de {self.train_accuracy_score*100} \\nA acurácia da base de validação foi de {self.validation_accuracy_score*100}\"\n",
    "    print(msg)\n",
    "\n",
    "Question1.show_results = show_results_question1\n",
    "question1.show_results()"
   ]
  },
  {
   "cell_type": "markdown",
   "metadata": {},
   "source": [
    "### Questão 1 - Resultado\n",
    "\n",
    "Após o calculos, chegamos ao resultado de:\n",
    "\n",
    "- A acurácia da base de treino foi de 77.14%\n",
    "- A acurácia da base de validação foi de 61.69%\n",
    "\n",
    "---"
   ]
  },
  {
   "cell_type": "markdown",
   "metadata": {},
   "source": [
    "## Questão 2\n",
    "\n",
    "Considerando os dados presentes no arquivo class02.csv, treine o algoritmo 10-Nearest Neighbors (KNN com 𝑘 = 10 e distância Euclidiana), utilizando a metodologia de validação cruzada k-fold com 5 folds. Considere que a primeira pasta de validação seja formada pelas primeiras 20% linhas do arquivo, que a segunda pasta de validação seja formada pelas 20% linhas seguintes, e assim por diante, até atingir a última pasta, formada pelas 20% linhas finais da base. Qual a acurácia média para a base de validação?"
   ]
  },
  {
   "cell_type": "markdown",
   "metadata": {},
   "source": [
    "Como informado no enunciado, foi realizado o treinamento do algoritmo 10-Nearest Neighbors, com k = 10 de distância Euclidiana, utilizando a validação cruzada descrita. Sua implementação pode ser vista no código abaixo."
   ]
  },
  {
   "cell_type": "code",
   "execution_count": 36,
   "metadata": {},
   "outputs": [],
   "source": [
    "from sklearn.neighbors import KNeighborsClassifier "
   ]
  },
  {
   "cell_type": "code",
   "execution_count": 37,
   "metadata": {},
   "outputs": [],
   "source": [
    "class Question2(Question):\n",
    "    def __init__(self):\n",
    "        super().__init__(\"class02\")\n",
    "\n",
    "question2 = Question2()\n",
    "# question2.dataset.head(5)"
   ]
  },
  {
   "cell_type": "code",
   "execution_count": 38,
   "metadata": {},
   "outputs": [
    {
     "name": "stdout",
     "output_type": "stream",
     "text": [
      "Tamanho dados de treino : 1050\n",
      "Tamanho dados de validação : 450\n"
     ]
    }
   ],
   "source": [
    "def prepare_data_question2(self):\n",
    "    self.train_data, self.validation_data = train_test_split(self.dataset, test_size=0.30) \n",
    "    self.validation_data_without_target = self.validation_data.drop([\"target\"], axis=1)\n",
    "    self.train_data_without_target = self.train_data.drop([\"target\"], axis=1)\n",
    "\n",
    "    print(f\"Tamanho dados de treino : {len(self.train_data)}\\nTamanho dados de validação : {len(self.validation_data)}\") \n",
    "\n",
    "Question2.prepare_data = prepare_data_question2\n",
    "question2.prepare_data()"
   ]
  },
  {
   "cell_type": "markdown",
   "metadata": {},
   "source": [
    "A validação cruzada k-fold (com 5 folds) funciona um pouco diferente da primeira validação cruzada\n",
    "\n",
    "<img src=\"../../../assets/docs/cross_validation_k_fold.png\" width=\"500\" />\n",
    "\n",
    "Sendo que normalmente nesse tipo de validação cruzada os dados de validação pegam 30% de todo o dataset e os de treino 70%"
   ]
  },
  {
   "cell_type": "code",
   "execution_count": 39,
   "metadata": {},
   "outputs": [
    {
     "name": "stdout",
     "output_type": "stream",
     "text": [
      "Cross validation result(R² with k-fold = 5) = [0.83809524 0.77142857 0.84285714 0.81904762 0.78571429]\n"
     ]
    }
   ],
   "source": [
    "def run_question2(self):\n",
    "    self.model = KNeighborsClassifier(n_neighbors=5)\n",
    "    \n",
    "    self.train_data_labs = self.train_data.columns.values\n",
    "    self.train_data_labs = self.train_data_labs[:-1]\n",
    "\n",
    "    self.train_data_x = self.train_data[self.train_data_labs]\n",
    "    self.train_data_y = self.train_data[[\"target\"]]\n",
    "\n",
    "    self.k_fold = 5\n",
    "    cross_val = cross_val_score(self.model, self.train_data_x,self.train_data_y.values.ravel(), cv=self.k_fold,error_score='raise')\n",
    "    self.model.fit(self.train_data_x,self.train_data_y.values.ravel())\n",
    "\n",
    "    self.validation_data_predicted = self.model.predict(self.validation_data_without_target)\n",
    "    self.train_data_predicted = self.model.predict(self.train_data_without_target)\n",
    "\n",
    "    print(f\"Cross validation result(R² with k-fold = {self.k_fold}) = {cross_val}\")\n",
    "\n",
    "Question2.run = run_question2\n",
    "question2.run()"
   ]
  },
  {
   "cell_type": "code",
   "execution_count": 40,
   "metadata": {},
   "outputs": [],
   "source": [
    "def validation_question2(self):\n",
    "    self.validation_data_y = self.validation_data[[\"target\"]]\n",
    "\n",
    "    self.validation_accuracy_score = accuracy_score(self.validation_data_y,self.validation_data_predicted)\n",
    "    self.train_accuracy_score = accuracy_score(self.train_data_y,self.train_data_predicted)\n",
    "\n",
    "Question2.validation = validation_question2\n",
    "question2.validation()"
   ]
  },
  {
   "cell_type": "code",
   "execution_count": 41,
   "metadata": {},
   "outputs": [
    {
     "name": "stdout",
     "output_type": "stream",
     "text": [
      "A acurácia da base de treino foi de 88.38095238095238 \n",
      "A acurácia da base de validação foi de 81.77777777777779\n"
     ]
    }
   ],
   "source": [
    "def show_results_question2(self):\n",
    "    msg = f\"A acurácia da base de treino foi de {self.train_accuracy_score*100} \\nA acurácia da base de validação foi de {self.validation_accuracy_score*100}\"\n",
    "    print(msg)\n",
    "\n",
    "Question2.show_results = show_results_question2\n",
    "question2.show_results()"
   ]
  },
  {
   "cell_type": "markdown",
   "metadata": {},
   "source": [
    "### Questão 2 - Resultados\n",
    "\n",
    "Após o calculos, chegamos ao resultado de:\n",
    "\n",
    "- A acurácia da base de treino foi de 88.38% \n",
    "- A acurácia da base de validação foi de 81.78%\n",
    "\n",
    "Como pode ser observado, houve um desempenho para o modelo adotado\n",
    "\n",
    "---"
   ]
  },
  {
   "cell_type": "markdown",
   "metadata": {},
   "source": [
    "## Questão 3\n",
    "\n",
    "Considerando os dados presentes no arquivo reg01.csv, obtenha um modelo de regressão linear com regularização L1 (LASSO com 𝛼 = 1) utilizando a metodologia Leave-One-out. Qual o valor médio do Root Mean Squared Error (RMSE) para a base de treino e para a base de validação? "
   ]
  },
  {
   "cell_type": "markdown",
   "metadata": {},
   "source": [
    "Segue abaixo a implementação do código para a resolução do exercício."
   ]
  },
  {
   "cell_type": "code",
   "execution_count": 42,
   "metadata": {},
   "outputs": [],
   "source": [
    "from sklearn.linear_model import Lasso\n",
    "from sklearn.metrics import mean_squared_error\n",
    "from sklearn.model_selection import LeaveOneOut"
   ]
  },
  {
   "cell_type": "code",
   "execution_count": 43,
   "metadata": {},
   "outputs": [],
   "source": [
    "class Question3(Question):\n",
    "    def __init__(self):\n",
    "        super().__init__(\"reg01\")\n",
    "\n",
    "question3 = Question3()\n",
    "# question3.dataset.head(5)"
   ]
  },
  {
   "cell_type": "code",
   "execution_count": 44,
   "metadata": {},
   "outputs": [
    {
     "name": "stdout",
     "output_type": "stream",
     "text": [
      "Tamanho dados de treino : 700\n",
      "Tamanho dados de validação : 300\n"
     ]
    }
   ],
   "source": [
    "def prepare_data_question3(self):\n",
    "    self.train_data, self.validation_data = train_test_split(self.dataset, test_size=0.30) \n",
    "    self.validation_data_without_target = self.validation_data.drop([\"target\"], axis=1)\n",
    "    self.train_data_without_target = self.train_data.drop([\"target\"], axis=1)\n",
    "\n",
    "    print(f\"Tamanho dados de treino : {len(self.train_data)}\\nTamanho dados de validação : {len(self.validation_data)}\") \n",
    "\n",
    "Question3.prepare_data = prepare_data_question3\n",
    "question3.prepare_data()"
   ]
  },
  {
   "cell_type": "code",
   "execution_count": 45,
   "metadata": {},
   "outputs": [],
   "source": [
    "def run_question3(self):\n",
    "    self.model = Lasso(alpha=1)\n",
    "    \n",
    "    self.train_data_labs = self.train_data.columns.values\n",
    "    self.train_data_labs = self.train_data_labs[:-1]\n",
    "\n",
    "    self.train_data_x = self.train_data[self.train_data_labs]\n",
    "    self.train_data_y = self.train_data[[\"target\"]]\n",
    "\n",
    "    self.cv = LeaveOneOut()\n",
    "    self.cross_val = cross_val_score(self.model, self.train_data_x,self.train_data_y.values.ravel(), cv=self.cv, scoring='neg_mean_absolute_error', n_jobs=-1)\n",
    "    \n",
    "    self.model.fit(self.train_data_x,self.train_data_y.values.ravel())\n",
    "\n",
    "    self.validation_data_predicted = self.model.predict(self.validation_data_without_target)\n",
    "    self.train_data_predicted = self.model.predict(self.train_data_without_target)\n",
    "\n",
    "Question3.run = run_question3\n",
    "question3.run()"
   ]
  },
  {
   "cell_type": "markdown",
   "metadata": {},
   "source": [
    "Para calcular o Root Mean Squared Error (RMSE), devemos seguir a seguinte formula:\n",
    "\n",
    "$ RMSE = \\sqrt{\\frac{\\sum^{N}_{i}{(yi_{predict} - yi_{actual})^{2}}}{N}} $\n",
    "\n",
    "Para facilitar, temos uma função do sklearn que faz isso por nós"
   ]
  },
  {
   "cell_type": "code",
   "execution_count": 46,
   "metadata": {},
   "outputs": [],
   "source": [
    "def validation_question3(self):\n",
    "    self.validation_data_y = self.validation_data[[\"target\"]]\n",
    "    \n",
    "    self.validation_data_rmse = np.sqrt(mean_squared_error(self.validation_data_y,self.validation_data_predicted))\n",
    "    self.train_data_rmse = np.sqrt(mean_squared_error(self.train_data_y,self.train_data_predicted))\n",
    "\n",
    "Question3.validation = validation_question3\n",
    "question3.validation()"
   ]
  },
  {
   "cell_type": "code",
   "execution_count": 47,
   "metadata": {},
   "outputs": [
    {
     "name": "stdout",
     "output_type": "stream",
     "text": [
      "A RMSE da base de treino foi de 19.582348396640022 \n",
      "A RMSE da base de validação foi de 18.541233298227333\n"
     ]
    }
   ],
   "source": [
    "def show_results_question3(self):\n",
    "    msg = f\"A RMSE da base de treino foi de {self.train_data_rmse} \\nA RMSE da base de validação foi de {self.validation_data_rmse}\"\n",
    "    print(msg)\n",
    "\n",
    "Question3.show_results = show_results_question3\n",
    "question3.show_results()"
   ]
  },
  {
   "cell_type": "markdown",
   "metadata": {},
   "source": [
    "### Questão 3 - Resposta\n",
    "\n",
    "Após o calculos, chegamos ao resultado de:\n",
    "\n",
    "- A RMSE da base de treino foi de 19.582348396640022 \n",
    "- A RMSE da base de validação foi de 18.541233298227333\n",
    "\n",
    "---"
   ]
  },
  {
   "cell_type": "markdown",
   "metadata": {},
   "source": [
    "## Questão 4\n",
    "\n",
    "Considerando os dados do arquivo reg02.csv, treine árvores de regressão, sem realizar podas, utilizando a metodologia de validação cruzada k-fold com 𝑘 = 5. Qual o valor do Mean Absolute Error (MAE) para a base de treino? Qual o valor médio do MAE para a base de validação? "
   ]
  },
  {
   "cell_type": "code",
   "execution_count": 48,
   "metadata": {},
   "outputs": [],
   "source": [
    "from sklearn.tree import DecisionTreeRegressor"
   ]
  },
  {
   "cell_type": "code",
   "execution_count": 49,
   "metadata": {},
   "outputs": [],
   "source": [
    "class Question4(Question):\n",
    "    def __init__(self):\n",
    "        super().__init__(\"reg02\")\n",
    "\n",
    "question4 = Question4()\n",
    "# question4.dataset.head(5)"
   ]
  },
  {
   "cell_type": "code",
   "execution_count": 50,
   "metadata": {},
   "outputs": [
    {
     "name": "stdout",
     "output_type": "stream",
     "text": [
      "Tamanho dados de treino : 700\n",
      "Tamanho dados de validação : 300\n"
     ]
    }
   ],
   "source": [
    "def prepare_data_question4(self):\n",
    "    self.train_data, self.validation_data = train_test_split(self.dataset, test_size=0.30) \n",
    "    self.validation_data_without_target = self.validation_data.drop([\"target\"], axis=1)\n",
    "    self.train_data_without_target = self.train_data.drop([\"target\"], axis=1)\n",
    "\n",
    "    print(f\"Tamanho dados de treino : {len(self.train_data)}\\nTamanho dados de validação : {len(self.validation_data)}\") \n",
    "\n",
    "Question4.prepare_data = prepare_data_question4\n",
    "question4.prepare_data()"
   ]
  },
  {
   "cell_type": "markdown",
   "metadata": {},
   "source": [
    "Para calcular o MAE, usamos a seguinte formula:\n",
    "\n",
    "$ MAE = \\frac{\\sum^{N}_{i}{|(yi_{predict} - yi_{actual})|}}{N} $"
   ]
  },
  {
   "cell_type": "code",
   "execution_count": 51,
   "metadata": {},
   "outputs": [
    {
     "name": "stdout",
     "output_type": "stream",
     "text": [
      "Cross validation result(R² with k-fold = 5) = [0.97822732 0.98533619 0.98190539 0.97937487 0.98187906]\n"
     ]
    }
   ],
   "source": [
    "def run_question4(self):\n",
    "    self.model = DecisionTreeRegressor()\n",
    "    \n",
    "    self.train_data_labs = self.train_data.columns.values\n",
    "    self.train_data_labs = self.train_data_labs[:-1]\n",
    "\n",
    "    self.train_data_x = self.train_data[self.train_data_labs]\n",
    "    self.train_data_y = self.train_data[[\"target\"]]\n",
    "\n",
    "    self.k_fold = 5\n",
    "    cross_val = cross_val_score(self.model, self.train_data_x,self.train_data_y.values.ravel(), cv=self.k_fold,error_score='raise')\n",
    "    self.model.fit(self.train_data_x,self.train_data_y.values.ravel())\n",
    "\n",
    "    self.validation_data_predicted = self.model.predict(self.validation_data_without_target)\n",
    "    self.train_data_predicted = self.model.predict(self.train_data_without_target)\n",
    "\n",
    "    print(f\"Cross validation result(R² with k-fold = {self.k_fold}) = {cross_val}\")\n",
    "\n",
    "Question4.run = run_question4\n",
    "question4.run()"
   ]
  },
  {
   "cell_type": "code",
   "execution_count": 52,
   "metadata": {},
   "outputs": [],
   "source": [
    "def validation_question4(self):\n",
    "    self.validation_data_y = self.validation_data[[\"target\"]]\n",
    "    \n",
    "    self.calculation_mae = lambda data_true, data_predicted: np.mean(np.abs(data_true - data_predicted))\n",
    "\n",
    "    self.validation_data_mae = self.calculation_mae(self.validation_data_y.values.ravel(),self.validation_data_predicted)\n",
    "    self.train_data_mae = self.calculation_mae(self.train_data_y.values.ravel(),self.train_data_predicted) \n",
    "\n",
    "Question4.validation = validation_question4\n",
    "question4.validation()"
   ]
  },
  {
   "cell_type": "code",
   "execution_count": 53,
   "metadata": {},
   "outputs": [
    {
     "name": "stdout",
     "output_type": "stream",
     "text": [
      "A MAE da base de treino foi de 0.0 \n",
      "A MAE da base de validação foi de 45.42253496774727\n"
     ]
    }
   ],
   "source": [
    "def show_results_question4(self):\n",
    "    msg = f\"A MAE da base de treino foi de {self.train_data_mae} \\nA MAE da base de validação foi de {self.validation_data_mae}\"\n",
    "    print(msg)\n",
    "\n",
    "Question4.show_results = show_results_question4\n",
    "question4.show_results()"
   ]
  },
  {
   "cell_type": "markdown",
   "metadata": {},
   "source": [
    "### Questão 4 - Resposta\n",
    "\n",
    "Após o calculos, chegamos ao resultado de:\n",
    "\n",
    "- A MAE da base de treino foi de 0.0 \n",
    "- A MAE da base de validação foi de 45.994092472635536\n",
    "\n",
    "---"
   ]
  }
 ],
 "metadata": {
  "kernelspec": {
   "display_name": "Python 3.8.10 64-bit",
   "language": "python",
   "name": "python3"
  },
  "language_info": {
   "codemirror_mode": {
    "name": "ipython",
    "version": 3
   },
   "file_extension": ".py",
   "mimetype": "text/x-python",
   "name": "python",
   "nbconvert_exporter": "python",
   "pygments_lexer": "ipython3",
   "version": "3.8.10"
  },
  "orig_nbformat": 4,
  "vscode": {
   "interpreter": {
    "hash": "916dbcbb3f70747c44a77c7bcd40155683ae19c65e1c03b4aa3499c5328201f1"
   }
  }
 },
 "nbformat": 4,
 "nbformat_minor": 2
}
