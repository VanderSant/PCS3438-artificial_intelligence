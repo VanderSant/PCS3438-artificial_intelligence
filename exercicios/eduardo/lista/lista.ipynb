{
 "cells": [
  {
   "cell_type": "markdown",
   "metadata": {},
   "source": [
    "# Lista de exercícios - Professor Eduardo\n",
    "\n",
    "Observações:\n",
    "- Pode-se usar softwares (e.g., R, Python, Weka etc.) para resolver as questões.\n",
    "- Todos os arquivos CSV possuem cabeçalho com o nome das colunas e campos separados por vírgula “,”.\n",
    "- Todas as questões têm pesos iguais e valem 2,5 pontos.\n",
    "- Data máxima para entrega: 05/12/2022 no horário da aula(14h). Para cada dia de atraso na entrega serão\n",
    "descontados 2,5 pontos."
   ]
  },
  {
   "cell_type": "markdown",
   "metadata": {},
   "source": [
    "## Questão 1\n",
    "\n",
    "Considerando os dados presentes no arquivo class01.csv, treine o algoritmo Naive Bayes Gaussiano utilizando a metodologia de validação cruzada holdout (utilize para treino as 350 primeiras linhas e para validação as demais). Qual o valor da acurácia a base de treino? Qual o valor da acurácia na base de validação?"
   ]
  },
  {
   "cell_type": "code",
   "execution_count": 68,
   "metadata": {},
   "outputs": [],
   "source": [
    "import os\n",
    "import sklearn                  \n",
    "import numpy as np\n",
    "import pandas as pd\n",
    "from sklearn.naive_bayes import GaussianNB\n",
    "from sklearn.model_selection import train_test_split\n",
    "from sklearn.metrics import accuracy_score\n"
   ]
  },
  {
   "cell_type": "code",
   "execution_count": 69,
   "metadata": {},
   "outputs": [
    {
     "data": {
      "text/plain": [
       "'/home/vander/Desktop/codes/poli/PCS3438_artificial_intelligence/exercicios/eduardo/lista/../../../assets/dataset/eduardo/lista'"
      ]
     },
     "execution_count": 69,
     "metadata": {},
     "output_type": "execute_result"
    }
   ],
   "source": [
    "InputDataReader = lambda data: pd.read_csv(data,sep=r'\\s*,\\s*',engine='python',na_values=\"?\")\n",
    "\n",
    "notebook_folder = os.getcwd()\n",
    "list_folder = f\"{notebook_folder}/../../../assets/dataset/eduardo/lista\"\n",
    "list_folder"
   ]
  },
  {
   "cell_type": "code",
   "execution_count": 84,
   "metadata": {},
   "outputs": [
    {
     "data": {
      "text/html": [
       "<div>\n",
       "<style scoped>\n",
       "    .dataframe tbody tr th:only-of-type {\n",
       "        vertical-align: middle;\n",
       "    }\n",
       "\n",
       "    .dataframe tbody tr th {\n",
       "        vertical-align: top;\n",
       "    }\n",
       "\n",
       "    .dataframe thead th {\n",
       "        text-align: right;\n",
       "    }\n",
       "</style>\n",
       "<table border=\"1\" class=\"dataframe\">\n",
       "  <thead>\n",
       "    <tr style=\"text-align: right;\">\n",
       "      <th></th>\n",
       "      <th>x0</th>\n",
       "      <th>x1</th>\n",
       "      <th>x2</th>\n",
       "      <th>x3</th>\n",
       "      <th>x4</th>\n",
       "      <th>x5</th>\n",
       "      <th>x6</th>\n",
       "      <th>x7</th>\n",
       "      <th>x8</th>\n",
       "      <th>x9</th>\n",
       "      <th>...</th>\n",
       "      <th>x91</th>\n",
       "      <th>x92</th>\n",
       "      <th>x93</th>\n",
       "      <th>x94</th>\n",
       "      <th>x95</th>\n",
       "      <th>x96</th>\n",
       "      <th>x97</th>\n",
       "      <th>x98</th>\n",
       "      <th>x99</th>\n",
       "      <th>target</th>\n",
       "    </tr>\n",
       "  </thead>\n",
       "  <tbody>\n",
       "    <tr>\n",
       "      <th>0</th>\n",
       "      <td>1.162990</td>\n",
       "      <td>-0.831971</td>\n",
       "      <td>-0.185266</td>\n",
       "      <td>0.441240</td>\n",
       "      <td>0.033957</td>\n",
       "      <td>1.432988</td>\n",
       "      <td>-1.171483</td>\n",
       "      <td>0.203248</td>\n",
       "      <td>1.900889</td>\n",
       "      <td>1.119174</td>\n",
       "      <td>...</td>\n",
       "      <td>-1.139286</td>\n",
       "      <td>-0.608239</td>\n",
       "      <td>-0.107224</td>\n",
       "      <td>1.700972</td>\n",
       "      <td>-0.698151</td>\n",
       "      <td>0.520004</td>\n",
       "      <td>-0.450784</td>\n",
       "      <td>-0.187694</td>\n",
       "      <td>-0.538329</td>\n",
       "      <td>1.0</td>\n",
       "    </tr>\n",
       "    <tr>\n",
       "      <th>1</th>\n",
       "      <td>-1.750976</td>\n",
       "      <td>-0.516614</td>\n",
       "      <td>-0.761588</td>\n",
       "      <td>1.692347</td>\n",
       "      <td>-1.579436</td>\n",
       "      <td>0.581782</td>\n",
       "      <td>-0.950953</td>\n",
       "      <td>0.381426</td>\n",
       "      <td>-1.370027</td>\n",
       "      <td>0.943387</td>\n",
       "      <td>...</td>\n",
       "      <td>-0.280502</td>\n",
       "      <td>-0.306014</td>\n",
       "      <td>0.554926</td>\n",
       "      <td>-1.402866</td>\n",
       "      <td>-0.776478</td>\n",
       "      <td>1.181890</td>\n",
       "      <td>-0.066449</td>\n",
       "      <td>-0.802430</td>\n",
       "      <td>1.587229</td>\n",
       "      <td>0.0</td>\n",
       "    </tr>\n",
       "    <tr>\n",
       "      <th>2</th>\n",
       "      <td>0.304635</td>\n",
       "      <td>0.972369</td>\n",
       "      <td>0.202908</td>\n",
       "      <td>-0.607761</td>\n",
       "      <td>0.487088</td>\n",
       "      <td>0.205173</td>\n",
       "      <td>0.815216</td>\n",
       "      <td>0.491880</td>\n",
       "      <td>0.904705</td>\n",
       "      <td>1.167017</td>\n",
       "      <td>...</td>\n",
       "      <td>-0.134901</td>\n",
       "      <td>0.291496</td>\n",
       "      <td>-1.038477</td>\n",
       "      <td>1.297057</td>\n",
       "      <td>-1.296614</td>\n",
       "      <td>-1.109806</td>\n",
       "      <td>-0.003495</td>\n",
       "      <td>-0.149940</td>\n",
       "      <td>0.539892</td>\n",
       "      <td>8.0</td>\n",
       "    </tr>\n",
       "    <tr>\n",
       "      <th>3</th>\n",
       "      <td>-1.667576</td>\n",
       "      <td>-0.262639</td>\n",
       "      <td>-1.513473</td>\n",
       "      <td>-1.060125</td>\n",
       "      <td>-0.456209</td>\n",
       "      <td>1.782235</td>\n",
       "      <td>1.034366</td>\n",
       "      <td>0.115217</td>\n",
       "      <td>-0.182177</td>\n",
       "      <td>-1.007720</td>\n",
       "      <td>...</td>\n",
       "      <td>1.203067</td>\n",
       "      <td>0.082647</td>\n",
       "      <td>-1.625862</td>\n",
       "      <td>-0.154116</td>\n",
       "      <td>0.478483</td>\n",
       "      <td>-1.465050</td>\n",
       "      <td>-0.450510</td>\n",
       "      <td>-0.757631</td>\n",
       "      <td>-3.184493</td>\n",
       "      <td>7.0</td>\n",
       "    </tr>\n",
       "    <tr>\n",
       "      <th>4</th>\n",
       "      <td>-0.820670</td>\n",
       "      <td>0.390631</td>\n",
       "      <td>0.761628</td>\n",
       "      <td>-0.945407</td>\n",
       "      <td>-0.871003</td>\n",
       "      <td>-0.142293</td>\n",
       "      <td>-1.522004</td>\n",
       "      <td>0.141962</td>\n",
       "      <td>0.091094</td>\n",
       "      <td>-0.860818</td>\n",
       "      <td>...</td>\n",
       "      <td>1.955541</td>\n",
       "      <td>0.079445</td>\n",
       "      <td>0.528177</td>\n",
       "      <td>1.522003</td>\n",
       "      <td>1.849394</td>\n",
       "      <td>-1.194590</td>\n",
       "      <td>1.023761</td>\n",
       "      <td>-0.335391</td>\n",
       "      <td>2.448868</td>\n",
       "      <td>3.0</td>\n",
       "    </tr>\n",
       "  </tbody>\n",
       "</table>\n",
       "<p>5 rows × 101 columns</p>\n",
       "</div>"
      ],
      "text/plain": [
       "         x0        x1        x2        x3        x4        x5        x6  \\\n",
       "0  1.162990 -0.831971 -0.185266  0.441240  0.033957  1.432988 -1.171483   \n",
       "1 -1.750976 -0.516614 -0.761588  1.692347 -1.579436  0.581782 -0.950953   \n",
       "2  0.304635  0.972369  0.202908 -0.607761  0.487088  0.205173  0.815216   \n",
       "3 -1.667576 -0.262639 -1.513473 -1.060125 -0.456209  1.782235  1.034366   \n",
       "4 -0.820670  0.390631  0.761628 -0.945407 -0.871003 -0.142293 -1.522004   \n",
       "\n",
       "         x7        x8        x9  ...       x91       x92       x93       x94  \\\n",
       "0  0.203248  1.900889  1.119174  ... -1.139286 -0.608239 -0.107224  1.700972   \n",
       "1  0.381426 -1.370027  0.943387  ... -0.280502 -0.306014  0.554926 -1.402866   \n",
       "2  0.491880  0.904705  1.167017  ... -0.134901  0.291496 -1.038477  1.297057   \n",
       "3  0.115217 -0.182177 -1.007720  ...  1.203067  0.082647 -1.625862 -0.154116   \n",
       "4  0.141962  0.091094 -0.860818  ...  1.955541  0.079445  0.528177  1.522003   \n",
       "\n",
       "        x95       x96       x97       x98       x99  target  \n",
       "0 -0.698151  0.520004 -0.450784 -0.187694 -0.538329     1.0  \n",
       "1 -0.776478  1.181890 -0.066449 -0.802430  1.587229     0.0  \n",
       "2 -1.296614 -1.109806 -0.003495 -0.149940  0.539892     8.0  \n",
       "3  0.478483 -1.465050 -0.450510 -0.757631 -3.184493     7.0  \n",
       "4  1.849394 -1.194590  1.023761 -0.335391  2.448868     3.0  \n",
       "\n",
       "[5 rows x 101 columns]"
      ]
     },
     "execution_count": 84,
     "metadata": {},
     "output_type": "execute_result"
    }
   ],
   "source": [
    "class Question1:\n",
    "    def __init__(self,dataset_name):\n",
    "        self.dataset_path = f\"{list_folder}/{dataset_name}.csv\"\n",
    "        self.dataset = InputDataReader(self.dataset_path)\n",
    "\n",
    "question1 = Question1(\"class01\")\n",
    "question1.dataset.head(5)"
   ]
  },
  {
   "cell_type": "code",
   "execution_count": 85,
   "metadata": {},
   "outputs": [],
   "source": [
    "def prepare_data(self):\n",
    "    self.train_data, self.test_data = train_test_split(self.dataset, test_size=0.65)\n",
    "    self.test_data_without_target = self.test_data.drop([\"target\"], axis=1)\n",
    "    self.train_data_without_target = self.train_data.drop([\"target\"], axis=1) \n",
    "\n",
    "Question1.prepare_data = prepare_data\n",
    "question1.prepare_data()"
   ]
  },
  {
   "cell_type": "code",
   "execution_count": 86,
   "metadata": {},
   "outputs": [
    {
     "name": "stderr",
     "output_type": "stream",
     "text": [
      "/home/vander/.local/lib/python3.8/site-packages/sklearn/utils/validation.py:1111: DataConversionWarning: A column-vector y was passed when a 1d array was expected. Please change the shape of y to (n_samples, ), for example using ravel().\n",
      "  y = column_or_1d(y, warn=True)\n"
     ]
    }
   ],
   "source": [
    "def run(self):\n",
    "    self.model = GaussianNB()\n",
    "    \n",
    "    self.train_data_labs = self.train_data.columns.values\n",
    "    self.train_data_labs = self.train_data_labs[:-1]\n",
    "\n",
    "    self.train_data_x = self.train_data[self.train_data_labs]\n",
    "    self.train_data_y = self.train_data[[\"target\"]]\n",
    "\n",
    "    self.model.fit(self.train_data_x,self.train_data_y)\n",
    "\n",
    "    self.test_data_predicted = self.model.predict(self.test_data_without_target)\n",
    "    self.train_data_predicted = self.model.predict(self.train_data_without_target)\n",
    "\n",
    "Question1.run = run\n",
    "question1.run()"
   ]
  },
  {
   "cell_type": "code",
   "execution_count": 87,
   "metadata": {},
   "outputs": [],
   "source": [
    "def validation(self):\n",
    "    self.test_data_y = self.test_data[[\"target\"]]\n",
    "\n",
    "    self.test_accuracy_score = accuracy_score(self.test_data_y,self.test_data_predicted)\n",
    "    self.train_accuracy_score = accuracy_score(self.train_data_y,self.train_data_predicted)\n",
    "\n",
    "Question1.validation = validation\n",
    "question1.validation()"
   ]
  },
  {
   "cell_type": "code",
   "execution_count": 89,
   "metadata": {},
   "outputs": [
    {
     "name": "stdout",
     "output_type": "stream",
     "text": [
      "A acurácia da base de treino foi de 0.76 \n",
      "A acurácia da base de validação foi de 0.6184615384615385\n"
     ]
    }
   ],
   "source": [
    "def show_results(self):\n",
    "    msg = f\"A acurácia da base de treino foi de {self.train_accuracy_score} \\nA acurácia da base de validação foi de {self.test_accuracy_score}\"\n",
    "    print(msg)\n",
    "\n",
    "Question1.show_results = show_results\n",
    "question1.show_results()"
   ]
  },
  {
   "cell_type": "markdown",
   "metadata": {},
   "source": [
    "## Questão 2\n",
    "\n",
    "Considerando os dados presentes no arquivo class02.csv, treine o algoritmo 10-Nearest Neighbors (KNN com 𝑘 = 10 e distância Euclidiana), utilizando a metodologia de validação cruzada k-fold com 5 folds. Considere que a primeira pasta de validação seja formada pelas primeiras 20% linhas do arquivo, que a segunda pasta de validação seja formada pelas 20% linhas seguintes, e assim por diante, até atingir a última pasta, formada pelas 20% linhas finais da base. Qual a acurácia média para a base de validação?"
   ]
  },
  {
   "cell_type": "markdown",
   "metadata": {},
   "source": [
    "## Questão 3\n",
    "\n",
    "Considerando os dados presentes no arquivo reg01.csv, obtenha um modelo de regressão linear com regularização L1 (LASSO com 𝛼 = 1) utilizando a metodologia Leave-One-out. Qual o valor médio do Root Mean Squared Error (RMSE) para a base de treino e para a base de validação? "
   ]
  },
  {
   "cell_type": "markdown",
   "metadata": {},
   "source": [
    "## Questão 4\n",
    "\n",
    "Considerando os dados do arquivo reg02.csv, treine árvores de regressão, sem realizar podas, utilizando a metodologia de validação cruzada k-fold com 𝑘 = 5. Qual o valor do Mean Absolute Error (MAE) para a base de treino? Qual o valor médio do MAE para a base de validação? "
   ]
  }
 ],
 "metadata": {
  "kernelspec": {
   "display_name": "Python 3.8.10 64-bit",
   "language": "python",
   "name": "python3"
  },
  "language_info": {
   "codemirror_mode": {
    "name": "ipython",
    "version": 3
   },
   "file_extension": ".py",
   "mimetype": "text/x-python",
   "name": "python",
   "nbconvert_exporter": "python",
   "pygments_lexer": "ipython3",
   "version": "3.8.10"
  },
  "orig_nbformat": 4,
  "vscode": {
   "interpreter": {
    "hash": "916dbcbb3f70747c44a77c7bcd40155683ae19c65e1c03b4aa3499c5328201f1"
   }
  }
 },
 "nbformat": 4,
 "nbformat_minor": 2
}
